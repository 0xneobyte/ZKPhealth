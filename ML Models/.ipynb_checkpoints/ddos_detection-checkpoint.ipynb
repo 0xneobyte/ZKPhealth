{
 "cells": [
  {
   "cell_type": "code",
   "execution_count": 1,
   "metadata": {},
   "outputs": [],
   "source": [
    "import os, pickle\n",
    "import numpy as np\n",
    "import pandas as pd\n",
    "import seaborn as sns\n",
    "import tensorflow as tf\n",
    "import matplotlib.pyplot as plt\n",
    "from sklearn.model_selection import train_test_split\n",
    "from sklearn.metrics import confusion_matrix, classification_report"
   ]
  },
  {
   "cell_type": "code",
   "execution_count": 2,
   "metadata": {},
   "outputs": [],
   "source": [
    "def data_pipe(\n",
    "            data_path = \"data/dataset_sdn.csv\"\n",
    "            ):\n",
    "        df = pd.read_csv(data_path)\n",
    "        df['Protocol'] = df['Protocol'].astype('category')\n",
    "        df['Protocol'] = df['Protocol'].map({'TCP': 0, 'UDP': 1, 'ICMP': 2})\n",
    "        del df['src'] , df['dst']\n",
    "        df.dropna(inplace=True)\n",
    "        \n",
    "        X = df.iloc[:, :-1].values\n",
    "        Y = df.iloc[:, -1].values\n",
    "        X = X.reshape(X.shape[0], 1, X.shape[1])\n",
    "\n",
    "        return X, Y"
   ]
  },
  {
   "cell_type": "code",
   "execution_count": 3,
   "metadata": {},
   "outputs": [
    {
     "name": "stdout",
     "output_type": "stream",
     "text": [
      "Xtrain shape: (83071, 1, 20)\n",
      "Ytrain shape: (83071,)\n",
      "Xtest shape: (20768, 1, 20)\n",
      "Ytest shape: (20768,)\n"
     ]
    }
   ],
   "source": [
    "X, Y = data_pipe()\n",
    "Xtrain, Xtest, Ytrain, Ytest = train_test_split(\n",
    "                                                X, Y, \n",
    "                                                test_size=0.2, \n",
    "                                                random_state=42\n",
    "                                                )\n",
    "print(f\"Xtrain shape: {Xtrain.shape}\")\n",
    "print(f\"Ytrain shape: {Ytrain.shape}\")\n",
    "print(f\"Xtest shape: {Xtest.shape}\")\n",
    "print(f\"Ytest shape: {Ytest.shape}\")"
   ]
  },
  {
   "cell_type": "code",
   "execution_count": 4,
   "metadata": {},
   "outputs": [
    {
     "data": {
      "image/png": "[encoded data removed]",
      "text/plain": [
       "<Figure size 1000x600 with 1 Axes>"
      ]
     },
     "metadata": {},
     "output_type": "display_data"
    }
   ],
   "source": [
    "value_counts = pd.Series(Y).value_counts()\n",
    "plt.figure(figsize=(10, 6))\n",
    "sns.barplot(x=value_counts.index, y=value_counts.values)\n",
    "plt.title(\"Class Distribution\")\n",
    "plt.show()"
   ]
  },
  {
   "cell_type": "code",
   "execution_count": 5,
   "metadata": {},
   "outputs": [
    {
     "name": "stdout",
     "output_type": "stream",
     "text": [
      "Model: \"sequential\"\n",
      "_________________________________________________________________\n",
      " Layer (type)                Output Shape              Param #   \n",
      "=================================================================\n",
      " lstm (LSTM)                 (None, 1, 256)            283648    \n",
      "                                                                 \n",
      " lstm_1 (LSTM)               (None, 128)               197120    \n",
      "                                                                 \n",
      " dense (Dense)               (None, 128)               16512     \n",
      "                                                                 \n",
      " dense_1 (Dense)             (None, 32)                4128      \n",
      "                                                                 \n",
      " dense_2 (Dense)             (None, 1)                 33        \n",
      "                                                                 \n",
      "=================================================================\n",
      "Total params: 501,441\n",
      "Trainable params: 501,441\n",
      "Non-trainable params: 0\n",
      "_________________________________________________________________\n"
     ]
    }
   ],
   "source": [
    "model = tf.keras.models.Sequential([\n",
    "                                tf.keras.layers.LSTM(256, input_shape=(Xtrain.shape[1], Xtrain.shape[2]), return_sequences=True),\n",
    "                                tf.keras.layers.LSTM(128),\n",
    "                                tf.keras.layers.Dense(128, activation='relu'),\n",
    "                                tf.keras.layers.Dense(32, activation='relu'),\n",
    "                                tf.keras.layers.Dense(1, activation='sigmoid')\n",
    "                                ])\n",
    "model.compile(\n",
    "                optimizer='adam', \n",
    "                loss='binary_crossentropy',\n",
    "                metrics=[\n",
    "                        tf.keras.metrics.Precision(name='acc')\n",
    "                        ]\n",
    "                )\n",
    "model.summary()"
   ]
  },
  {
   "cell_type": "code",
   "execution_count": 6,
   "metadata": {},
   "outputs": [
    {
     "name": "stdout",
     "output_type": "stream",
     "text": [
      "Epoch 1/100\n",
      "1298/1298 [==============================] - 15s 8ms/step - loss: 0.6668 - acc: 0.6681 - val_loss: 0.6643 - val_acc: 0.6982\n",
      "Epoch 2/100\n",
      "1298/1298 [==============================] - 10s 8ms/step - loss: 0.6628 - acc: 0.6831 - val_loss: 0.6636 - val_acc: 0.7786\n",
      "Epoch 3/100\n",
      "1298/1298 [==============================] - 10s 7ms/step - loss: 0.6617 - acc: 0.6884 - val_loss: 0.6621 - val_acc: 0.7058\n",
      "Epoch 4/100\n",
      "1298/1298 [==============================] - 10s 8ms/step - loss: 0.6616 - acc: 0.6706 - val_loss: 0.6624 - val_acc: 0.7711\n",
      "Epoch 5/100\n",
      "1298/1298 [==============================] - 10s 8ms/step - loss: 0.6611 - acc: 0.6841 - val_loss: 0.6618 - val_acc: 0.7767\n",
      "Epoch 6/100\n",
      "1298/1298 [==============================] - 10s 8ms/step - loss: 0.6612 - acc: 0.6745 - val_loss: 0.6626 - val_acc: 0.6534\n",
      "Epoch 7/100\n",
      "1298/1298 [==============================] - 11s 8ms/step - loss: 0.6611 - acc: 0.6799 - val_loss: 0.6644 - val_acc: 0.7753\n",
      "Epoch 8/100\n",
      "1298/1298 [==============================] - 10s 8ms/step - loss: 0.6609 - acc: 0.6872 - val_loss: 0.6625 - val_acc: 0.6476\n",
      "Epoch 9/100\n",
      "1298/1298 [==============================] - 10s 8ms/step - loss: 0.6608 - acc: 0.6885 - val_loss: 0.6622 - val_acc: 0.6587\n",
      "Epoch 10/100\n",
      "1298/1298 [==============================] - 10s 8ms/step - loss: 0.6606 - acc: 0.6848 - val_loss: 0.6629 - val_acc: 0.7852\n",
      "Epoch 11/100\n",
      "1298/1298 [==============================] - 10s 8ms/step - loss: 0.6607 - acc: 0.6807 - val_loss: 0.6633 - val_acc: 0.7850\n",
      "Epoch 12/100\n",
      "1298/1298 [==============================] - 10s 8ms/step - loss: 0.6606 - acc: 0.6952 - val_loss: 0.6627 - val_acc: 0.7820\n",
      "Epoch 13/100\n",
      "1298/1298 [==============================] - 10s 8ms/step - loss: 0.6605 - acc: 0.6845 - val_loss: 0.6622 - val_acc: 0.6552\n",
      "Epoch 14/100\n",
      "1298/1298 [==============================] - 10s 8ms/step - loss: 0.6604 - acc: 0.6849 - val_loss: 0.6625 - val_acc: 0.6562\n",
      "Epoch 15/100\n",
      "1298/1298 [==============================] - 10s 8ms/step - loss: 0.6604 - acc: 0.6846 - val_loss: 0.6630 - val_acc: 0.7805\n",
      "Epoch 16/100\n",
      "1298/1298 [==============================] - 10s 8ms/step - loss: 0.6604 - acc: 0.6912 - val_loss: 0.6627 - val_acc: 0.6887\n",
      "Epoch 17/100\n",
      "1298/1298 [==============================] - 10s 8ms/step - loss: 0.6604 - acc: 0.6902 - val_loss: 0.6624 - val_acc: 0.7827\n",
      "Epoch 18/100\n",
      "1298/1298 [==============================] - 10s 8ms/step - loss: 0.6602 - acc: 0.6914 - val_loss: 0.6624 - val_acc: 0.6546\n",
      "Epoch 19/100\n",
      "1298/1298 [==============================] - 10s 8ms/step - loss: 0.6603 - acc: 0.6705 - val_loss: 0.6626 - val_acc: 0.6885\n",
      "Epoch 20/100\n",
      "1298/1298 [==============================] - 10s 7ms/step - loss: 0.6605 - acc: 0.7059 - val_loss: 0.6628 - val_acc: 0.7810\n",
      "Epoch 21/100\n",
      "1298/1298 [==============================] - 10s 7ms/step - loss: 0.6602 - acc: 0.7286 - val_loss: 0.6626 - val_acc: 0.7797\n",
      "Epoch 22/100\n",
      "1298/1298 [==============================] - 10s 7ms/step - loss: 0.6602 - acc: 0.7094 - val_loss: 0.6630 - val_acc: 0.6450\n",
      "Epoch 23/100\n",
      "1298/1298 [==============================] - 10s 7ms/step - loss: 0.6602 - acc: 0.6899 - val_loss: 0.6633 - val_acc: 0.6526\n",
      "Epoch 24/100\n",
      "1298/1298 [==============================] - 10s 7ms/step - loss: 0.6601 - acc: 0.6908 - val_loss: 0.6634 - val_acc: 0.7783\n",
      "Epoch 25/100\n",
      "1298/1298 [==============================] - 10s 7ms/step - loss: 0.6601 - acc: 0.6990 - val_loss: 0.6641 - val_acc: 0.6548\n",
      "Epoch 26/100\n",
      "1298/1298 [==============================] - 9s 7ms/step - loss: 0.6601 - acc: 0.7090 - val_loss: 0.6655 - val_acc: 0.6529\n",
      "Epoch 27/100\n",
      "1298/1298 [==============================] - 9s 7ms/step - loss: 0.6602 - acc: 0.6900 - val_loss: 0.6634 - val_acc: 0.6535\n",
      "Epoch 28/100\n",
      "1298/1298 [==============================] - 9s 7ms/step - loss: 0.6599 - acc: 0.6985 - val_loss: 0.6638 - val_acc: 0.7729\n",
      "Epoch 29/100\n",
      "1298/1298 [==============================] - 10s 7ms/step - loss: 0.6599 - acc: 0.7058 - val_loss: 0.6640 - val_acc: 0.7780\n",
      "Epoch 30/100\n",
      "1298/1298 [==============================] - 10s 7ms/step - loss: 0.6601 - acc: 0.6856 - val_loss: 0.6638 - val_acc: 0.6540\n",
      "Epoch 31/100\n",
      "1298/1298 [==============================] - 9s 7ms/step - loss: 0.6599 - acc: 0.6954 - val_loss: 0.6640 - val_acc: 0.7868\n",
      "Epoch 32/100\n",
      "1298/1298 [==============================] - 9s 7ms/step - loss: 0.6601 - acc: 0.6831 - val_loss: 0.6636 - val_acc: 0.7819\n",
      "Epoch 33/100\n",
      "1298/1298 [==============================] - 10s 7ms/step - loss: 0.6600 - acc: 0.7006 - val_loss: 0.6673 - val_acc: 0.6528\n",
      "Epoch 34/100\n",
      "1298/1298 [==============================] - 10s 7ms/step - loss: 0.6599 - acc: 0.6970 - val_loss: 0.6648 - val_acc: 0.7764\n",
      "Epoch 35/100\n",
      "1298/1298 [==============================] - 10s 7ms/step - loss: 0.6598 - acc: 0.7000 - val_loss: 0.6649 - val_acc: 0.6854\n",
      "Epoch 36/100\n",
      "1298/1298 [==============================] - 10s 8ms/step - loss: 0.6599 - acc: 0.6863 - val_loss: 0.6649 - val_acc: 0.6899\n",
      "Epoch 37/100\n",
      "1298/1298 [==============================] - 10s 8ms/step - loss: 0.6600 - acc: 0.7011 - val_loss: 0.6657 - val_acc: 0.6543\n",
      "Epoch 38/100\n",
      "1298/1298 [==============================] - 10s 7ms/step - loss: 0.6599 - acc: 0.6992 - val_loss: 0.6651 - val_acc: 0.6887\n",
      "Epoch 39/100\n",
      "1298/1298 [==============================] - 10s 8ms/step - loss: 0.6598 - acc: 0.6928 - val_loss: 0.6645 - val_acc: 0.6876\n",
      "Epoch 40/100\n",
      "1298/1298 [==============================] - 13s 10ms/step - loss: 0.6598 - acc: 0.7008 - val_loss: 0.6640 - val_acc: 0.6905\n",
      "Epoch 41/100\n",
      "1298/1298 [==============================] - 11s 9ms/step - loss: 0.6598 - acc: 0.6882 - val_loss: 0.6641 - val_acc: 0.7813\n",
      "Epoch 42/100\n",
      "1298/1298 [==============================] - 10s 8ms/step - loss: 0.6598 - acc: 0.7045 - val_loss: 0.6644 - val_acc: 0.6547\n",
      "Epoch 43/100\n",
      "1298/1298 [==============================] - 10s 8ms/step - loss: 0.6597 - acc: 0.6841 - val_loss: 0.6651 - val_acc: 0.7854\n",
      "Epoch 44/100\n",
      "1298/1298 [==============================] - 10s 8ms/step - loss: 0.6598 - acc: 0.6987 - val_loss: 0.6652 - val_acc: 0.6896\n",
      "Epoch 45/100\n",
      "1298/1298 [==============================] - 10s 7ms/step - loss: 0.6600 - acc: 0.7101 - val_loss: 0.6649 - val_acc: 0.6866\n",
      "Epoch 46/100\n",
      "1298/1298 [==============================] - 10s 8ms/step - loss: 0.6598 - acc: 0.7241 - val_loss: 0.6655 - val_acc: 0.7816\n",
      "Epoch 47/100\n",
      "1298/1298 [==============================] - 10s 8ms/step - loss: 0.6598 - acc: 0.7183 - val_loss: 0.6649 - val_acc: 0.7745\n",
      "Epoch 48/100\n",
      "1298/1298 [==============================] - 10s 7ms/step - loss: 0.6597 - acc: 0.6903 - val_loss: 0.6665 - val_acc: 0.7759\n",
      "Epoch 49/100\n",
      "1298/1298 [==============================] - 10s 8ms/step - loss: 0.6598 - acc: 0.6985 - val_loss: 0.6652 - val_acc: 0.6878\n",
      "Epoch 50/100\n",
      "1298/1298 [==============================] - 10s 8ms/step - loss: 0.6597 - acc: 0.7014 - val_loss: 0.6648 - val_acc: 0.6858\n",
      "Epoch 51/100\n",
      "1298/1298 [==============================] - 9s 7ms/step - loss: 0.6597 - acc: 0.7019 - val_loss: 0.6648 - val_acc: 0.6520\n",
      "Epoch 52/100\n",
      "1298/1298 [==============================] - 10s 7ms/step - loss: 0.6596 - acc: 0.6960 - val_loss: 0.6658 - val_acc: 0.6858\n",
      "Epoch 53/100\n",
      "1298/1298 [==============================] - 10s 8ms/step - loss: 0.6598 - acc: 0.6969 - val_loss: 0.6645 - val_acc: 0.7805\n",
      "Epoch 54/100\n",
      "1298/1298 [==============================] - 10s 8ms/step - loss: 0.6597 - acc: 0.6944 - val_loss: 0.6657 - val_acc: 0.6866\n",
      "Epoch 55/100\n",
      "1298/1298 [==============================] - 10s 8ms/step - loss: 0.6597 - acc: 0.7093 - val_loss: 0.6660 - val_acc: 0.7811\n",
      "Epoch 56/100\n",
      "1298/1298 [==============================] - 10s 8ms/step - loss: 0.6596 - acc: 0.6945 - val_loss: 0.6666 - val_acc: 0.7764\n",
      "Epoch 57/100\n",
      "1298/1298 [==============================] - 10s 7ms/step - loss: 0.6598 - acc: 0.6851 - val_loss: 0.6650 - val_acc: 0.7826\n",
      "Epoch 58/100\n",
      "1298/1298 [==============================] - 10s 8ms/step - loss: 0.6596 - acc: 0.7050 - val_loss: 0.6669 - val_acc: 0.7797\n",
      "Epoch 59/100\n",
      "1298/1298 [==============================] - 10s 8ms/step - loss: 0.6597 - acc: 0.7043 - val_loss: 0.6675 - val_acc: 0.6879\n",
      "Epoch 60/100\n",
      "1298/1298 [==============================] - 10s 8ms/step - loss: 0.6596 - acc: 0.6948 - val_loss: 0.6674 - val_acc: 0.6845\n",
      "Epoch 61/100\n",
      "1298/1298 [==============================] - 10s 8ms/step - loss: 0.6597 - acc: 0.6913 - val_loss: 0.6659 - val_acc: 0.6526\n",
      "Epoch 62/100\n",
      "1298/1298 [==============================] - 10s 8ms/step - loss: 0.6598 - acc: 0.7287 - val_loss: 0.6662 - val_acc: 0.6880\n",
      "Epoch 63/100\n",
      "1298/1298 [==============================] - 10s 8ms/step - loss: 0.6597 - acc: 0.7154 - val_loss: 0.6664 - val_acc: 0.7775\n",
      "Epoch 64/100\n",
      "1298/1298 [==============================] - 10s 8ms/step - loss: 0.6596 - acc: 0.7124 - val_loss: 0.6656 - val_acc: 0.6889\n",
      "Epoch 65/100\n",
      "1298/1298 [==============================] - 10s 8ms/step - loss: 0.6596 - acc: 0.7096 - val_loss: 0.6657 - val_acc: 0.6867\n",
      "Epoch 66/100\n",
      "1298/1298 [==============================] - 10s 8ms/step - loss: 0.6595 - acc: 0.6927 - val_loss: 0.6656 - val_acc: 0.7748\n",
      "Epoch 67/100\n",
      "1298/1298 [==============================] - 10s 8ms/step - loss: 0.6596 - acc: 0.6966 - val_loss: 0.6649 - val_acc: 0.6892\n",
      "Epoch 68/100\n",
      "1298/1298 [==============================] - 10s 8ms/step - loss: 0.6595 - acc: 0.6872 - val_loss: 0.6691 - val_acc: 0.7731\n",
      "Epoch 69/100\n",
      "1298/1298 [==============================] - 10s 7ms/step - loss: 0.6597 - acc: 0.7218 - val_loss: 0.6663 - val_acc: 0.6761\n",
      "Epoch 70/100\n",
      "1298/1298 [==============================] - 10s 8ms/step - loss: 0.6595 - acc: 0.6918 - val_loss: 0.6668 - val_acc: 0.6872\n",
      "Epoch 71/100\n",
      "1298/1298 [==============================] - 10s 7ms/step - loss: 0.6598 - acc: 0.7010 - val_loss: 0.6676 - val_acc: 0.6858\n",
      "Epoch 72/100\n",
      "1298/1298 [==============================] - 10s 8ms/step - loss: 0.6595 - acc: 0.6910 - val_loss: 0.6654 - val_acc: 0.7775\n",
      "Epoch 73/100\n",
      "1298/1298 [==============================] - 10s 8ms/step - loss: 0.6596 - acc: 0.6986 - val_loss: 0.6665 - val_acc: 0.6867\n",
      "Epoch 74/100\n",
      "1298/1298 [==============================] - 10s 8ms/step - loss: 0.6596 - acc: 0.7091 - val_loss: 0.6655 - val_acc: 0.6859\n",
      "Epoch 75/100\n",
      "1298/1298 [==============================] - 10s 8ms/step - loss: 0.6595 - acc: 0.6924 - val_loss: 0.6658 - val_acc: 0.6879\n",
      "Epoch 76/100\n",
      "1298/1298 [==============================] - 10s 7ms/step - loss: 0.6595 - acc: 0.6892 - val_loss: 0.6678 - val_acc: 0.6880\n",
      "Epoch 77/100\n",
      "1298/1298 [==============================] - 10s 8ms/step - loss: 0.6595 - acc: 0.6873 - val_loss: 0.6672 - val_acc: 0.6862\n",
      "Epoch 78/100\n",
      "1298/1298 [==============================] - 10s 8ms/step - loss: 0.6595 - acc: 0.7069 - val_loss: 0.6704 - val_acc: 0.7725\n",
      "Epoch 79/100\n",
      "1298/1298 [==============================] - 10s 8ms/step - loss: 0.6594 - acc: 0.6897 - val_loss: 0.6665 - val_acc: 0.6896\n",
      "Epoch 80/100\n",
      "1298/1298 [==============================] - 10s 8ms/step - loss: 0.6595 - acc: 0.6978 - val_loss: 0.6670 - val_acc: 0.6887\n",
      "Epoch 81/100\n",
      "1298/1298 [==============================] - 10s 8ms/step - loss: 0.6595 - acc: 0.6893 - val_loss: 0.6676 - val_acc: 0.6850\n",
      "Epoch 82/100\n",
      "1298/1298 [==============================] - 10s 8ms/step - loss: 0.6595 - acc: 0.7171 - val_loss: 0.6707 - val_acc: 0.7721\n",
      "Epoch 83/100\n",
      "1298/1298 [==============================] - 10s 8ms/step - loss: 0.6597 - acc: 0.7207 - val_loss: 0.6698 - val_acc: 0.6837\n",
      "Epoch 84/100\n",
      "1298/1298 [==============================] - 10s 8ms/step - loss: 0.6594 - acc: 0.6987 - val_loss: 0.6727 - val_acc: 0.7836\n",
      "Epoch 85/100\n",
      "1298/1298 [==============================] - 10s 8ms/step - loss: 0.6595 - acc: 0.6941 - val_loss: 0.6688 - val_acc: 0.6854\n",
      "Epoch 86/100\n",
      "1298/1298 [==============================] - 10s 8ms/step - loss: 0.6595 - acc: 0.6773 - val_loss: 0.6688 - val_acc: 0.7838\n",
      "Epoch 87/100\n",
      "1298/1298 [==============================] - 10s 8ms/step - loss: 0.6594 - acc: 0.6974 - val_loss: 0.6690 - val_acc: 0.6844\n",
      "Epoch 88/100\n",
      "1298/1298 [==============================] - 10s 7ms/step - loss: 0.6595 - acc: 0.6993 - val_loss: 0.6679 - val_acc: 0.6850\n",
      "Epoch 89/100\n",
      "1298/1298 [==============================] - 10s 8ms/step - loss: 0.6594 - acc: 0.7011 - val_loss: 0.6677 - val_acc: 0.7838\n",
      "Epoch 90/100\n",
      "1298/1298 [==============================] - 10s 8ms/step - loss: 0.6593 - acc: 0.7122 - val_loss: 0.6675 - val_acc: 0.6854\n",
      "Epoch 91/100\n",
      "1298/1298 [==============================] - 10s 8ms/step - loss: 0.6593 - acc: 0.7135 - val_loss: 0.6688 - val_acc: 0.6863\n",
      "Epoch 92/100\n",
      "1298/1298 [==============================] - 10s 8ms/step - loss: 0.6594 - acc: 0.7201 - val_loss: 0.6672 - val_acc: 0.6839\n",
      "Epoch 93/100\n",
      "1298/1298 [==============================] - 10s 8ms/step - loss: 0.6594 - acc: 0.6941 - val_loss: 0.6682 - val_acc: 0.7824\n",
      "Epoch 94/100\n",
      "1298/1298 [==============================] - 10s 8ms/step - loss: 0.6594 - acc: 0.6998 - val_loss: 0.6672 - val_acc: 0.6858\n",
      "Epoch 95/100\n",
      "1298/1298 [==============================] - 10s 8ms/step - loss: 0.6594 - acc: 0.6904 - val_loss: 0.6694 - val_acc: 0.6833\n",
      "Epoch 96/100\n",
      "1298/1298 [==============================] - 10s 8ms/step - loss: 0.6593 - acc: 0.7064 - val_loss: 0.6691 - val_acc: 0.7838\n",
      "Epoch 97/100\n",
      "1298/1298 [==============================] - 10s 8ms/step - loss: 0.6596 - acc: 0.7053 - val_loss: 0.6654 - val_acc: 0.6854\n",
      "Epoch 98/100\n",
      "1298/1298 [==============================] - 10s 8ms/step - loss: 0.6593 - acc: 0.6892 - val_loss: 0.6676 - val_acc: 0.6837\n",
      "Epoch 99/100\n",
      "1298/1298 [==============================] - 10s 7ms/step - loss: 0.6593 - acc: 0.6790 - val_loss: 0.6689 - val_acc: 0.6882\n",
      "Epoch 100/100\n",
      "1298/1298 [==============================] - 10s 8ms/step - loss: 0.6594 - acc: 0.6839 - val_loss: 0.6676 - val_acc: 0.6850\n"
     ]
    },
    {
     "data": {
      "text/plain": [
       "<keras.callbacks.History at 0x1b05ab6d0f0>"
      ]
     },
     "execution_count": 6,
     "metadata": {},
     "output_type": "execute_result"
    }
   ],
   "source": [
    "model.fit(\n",
    "        Xtrain, \n",
    "        Ytrain,\n",
    "        epochs=100, \n",
    "        batch_size=64, \n",
    "        validation_data=(\n",
    "                        Xtest, \n",
    "                        Ytest\n",
    "                        )\n",
    "        )"
   ]
  },
  {
   "cell_type": "code",
   "execution_count": 7,
   "metadata": {},
   "outputs": [],
   "source": [
    "if not os.path.exists(\"artifacts/ddos_model.pickle\"):\n",
    "    model.save(\"artifacts/ddos_model.pickle\")"
   ]
  },
  {
   "cell_type": "markdown",
   "metadata": {},
   "source": [
    "### evaluation"
   ]
  },
  {
   "cell_type": "code",
   "execution_count": 8,
   "metadata": {},
   "outputs": [],
   "source": [
    "with open(\"artifacts/ddos_model.pickle\", \"rb\") as f:\n",
    "    model = pickle.load(f)"
   ]
  },
  {
   "cell_type": "code",
   "execution_count": 9,
   "metadata": {},
   "outputs": [],
   "source": [
    "Ptrain = model.predict(Xtrain.reshape(Xtrain.shape[0], Xtrain.shape[2]))\n",
    "Ptest = model.predict(Xtest.reshape(Xtest.shape[0], Xtest.shape[2]))"
   ]
  },
  {
   "cell_type": "code",
   "execution_count": 10,
   "metadata": {},
   "outputs": [
    {
     "name": "stdout",
     "output_type": "stream",
     "text": [
      "Train Classification Report\n",
      "              precision    recall  f1-score   support\n",
      "\n",
      "      Normal       1.00      1.00      1.00     50722\n",
      "        DDOS       1.00      1.00      1.00     32349\n",
      "\n",
      "    accuracy                           1.00     83071\n",
      "   macro avg       1.00      1.00      1.00     83071\n",
      "weighted avg       1.00      1.00      1.00     83071\n",
      "\n",
      "Test Classification Report\n",
      "              precision    recall  f1-score   support\n",
      "\n",
      "      Normal       1.00      1.00      1.00     12613\n",
      "        DDOS       1.00      1.00      1.00      8155\n",
      "\n",
      "    accuracy                           1.00     20768\n",
      "   macro avg       1.00      1.00      1.00     20768\n",
      "weighted avg       1.00      1.00      1.00     20768\n",
      "\n"
     ]
    }
   ],
   "source": [
    "cls_train = classification_report(\n",
    "                                Ytrain, \n",
    "                                Ptrain,\n",
    "                                target_names=[\n",
    "                                            \"Normal\",\n",
    "                                            \"DDOS\"\n",
    "                                            ]\n",
    "                                )       \n",
    "cls_test = classification_report(\n",
    "                                Ytest, \n",
    "                                Ptest,\n",
    "                                target_names=[\n",
    "                                            \"Normal\",\n",
    "                                            \"DDOS\"\n",
    "                                            ]\n",
    "                                )   \n",
    "\n",
    "print(\"Train Classification Report\")\n",
    "print(cls_train)\n",
    "\n",
    "print(\"Test Classification Report\")\n",
    "print(cls_test)"
   ]
  },
  {
   "cell_type": "code",
   "execution_count": 12,
   "metadata": {},
   "outputs": [
    {
     "data": {
      "image/png": "[encoded data removed]",
      "text/plain": [
       "<Figure size 1400x600 with 4 Axes>"
      ]
     },
     "metadata": {},
     "output_type": "display_data"
    }
   ],
   "source": [
    "cm_train = confusion_matrix(Ytrain, Ptrain) \n",
    "cm_test = confusion_matrix(Ytest, Ptest)\n",
    "\n",
    "plt.figure(figsize=(14, 6))\n",
    "plt.subplot(1, 2, 1)\n",
    "sns.heatmap(cm_train, annot=True, fmt='d', cmap='Blues')\n",
    "plt.xtricks = ['Normal', 'DDOS']\n",
    "plt.title('Train Confusion Matrix')\n",
    "plt.xlabel('Predicted')\n",
    "plt.ylabel('Actual')\n",
    "\n",
    "plt.subplot(1, 2, 2)\n",
    "sns.heatmap(cm_test, annot=True, fmt='d', cmap='Blues')\n",
    "plt.xtricks = ['Normal', 'DDOS']\n",
    "plt.title('Test Confusion Matrix')\n",
    "plt.xlabel('Predicted')\n",
    "plt.ylabel('Actual')\n",
    "\n",
    "plt.show()"
   ]
  },
  {
   "cell_type": "markdown",
   "metadata": {},
   "source": [
    "### inference"
   ]
  },
  {
   "cell_type": "code",
   "execution_count": 13,
   "metadata": {},
   "outputs": [],
   "source": [
    "with open(\"artifacts/ddos_model.pickle\", \"rb\") as f:\n",
    "    model = pickle.load(f)"
   ]
  },
  {
   "cell_type": "code",
   "execution_count": 14,
   "metadata": {},
   "outputs": [],
   "source": [
    "sample_json = {\n",
    "                \"dt\": 11425,\n",
    "                \"switch\": 1,\n",
    "                \"src\": \"10.0.0.1\",\n",
    "                \"dst\": \"10.0.0.8\",\n",
    "                \"pktcount\": 45304,\n",
    "                \"bytecount\": 48294064,\n",
    "                \"dur\": 100,\n",
    "                \"dur_nsec\": 716000000,\n",
    "                \"tot_dur\": 1.01E+11,\n",
    "                \"flows\": 3,\n",
    "                \"packetins\": 1943,\n",
    "                \"pktperflow\": 13535,\n",
    "                \"byteperflow\": 14428310,\n",
    "                \"pktrate\": 451,\n",
    "                \"Pairflow\": 0,\n",
    "                \"Protocol\": \"UDP\",\n",
    "                \"port_no\": 3,\n",
    "                \"tx_bytes\": 143928631,\n",
    "                \"rx_bytes\": 3917,\n",
    "                \"tx_kbps\": 0,\n",
    "                \"rx_kbps\": 0,\n",
    "                \"tot_kbps\": 0,\n",
    "                }"
   ]
  },
  {
   "cell_type": "code",
   "execution_count": 19,
   "metadata": {},
   "outputs": [],
   "source": [
    "def inference_ddos(sample_json):\n",
    "    sample_df = pd.DataFrame([sample_json])\n",
    "    sample_df['Protocol'] = sample_df['Protocol'].astype('category')\n",
    "    sample_df['Protocol'] = sample_df['Protocol'].map({'TCP': 0, 'UDP': 1, 'ICMP': 2})\n",
    "    del sample_df['src'] , sample_df['dst']\n",
    "    prediction = model.predict(sample_df.values)\n",
    "    lable = \"Normal\" if prediction < 0.5 else \"DDOS\"\n",
    "    return lable"
   ]
  },
  {
   "cell_type": "code",
   "execution_count": 20,
   "metadata": {},
   "outputs": [
    {
     "data": {
      "text/plain": [
       "'Normal'"
      ]
     },
     "execution_count": 20,
     "metadata": {},
     "output_type": "execute_result"
    }
   ],
   "source": [
    "inference_ddos(sample_json)"
   ]
  }
 ],
 "metadata": {
  "kernelspec": {
   "display_name": "tf210",
   "language": "python",
   "name": "python3"
  },
  "language_info": {
   "codemirror_mode": {
    "name": "ipython",
    "version": 3
   },
   "file_extension": ".py",
   "mimetype": "text/x-python",
   "name": "python",
   "nbconvert_exporter": "python",
   "pygments_lexer": "ipython3",
   "version": "3.10.14"
  }
 },
 "nbformat": 4,
 "nbformat_minor": 2
}
