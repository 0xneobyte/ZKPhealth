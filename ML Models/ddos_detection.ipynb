{
 "cells": [
  {
   "cell_type": "code",
   "execution_count": 1,
   "metadata": {},
   "outputs": [],
   "source": [
    "import os, pickle\n",
    "import numpy as np\n",
    "import pandas as pd\n",
    "import seaborn as sns\n",
    "import tensorflow as tf\n",
    "import matplotlib.pyplot as plt\n",
    "from sklearn.model_selection import train_test_split\n",
    "from sklearn.metrics import confusion_matrix, classification_report"
   ]
  },
  {
   "cell_type": "code",
   "execution_count": 3,
   "metadata": {},
   "outputs": [],
   "source": [
    "def data_pipe(\n",
    "            data_path = \"data/dataset_sdn.csv\"\n",
    "            ):\n",
    "        df = pd.read_csv(data_path)\n",
    "        df['Protocol'] = df['Protocol'].astype('category')\n",
    "        df['Protocol'] = df['Protocol'].map({'TCP': 0, 'UDP': 1, 'ICMP': 2})\n",
    "        del df['src'] , df['dst']\n",
    "        df.dropna(inplace=True)\n",
    "        \n",
    "        X = df.iloc[:, :-1].values\n",
    "        Y = df.iloc[:, -1].values\n",
    "        X = X.reshape(X.shape[0], 1, X.shape[1])\n",
    "\n",
    "        return X, Y"
   ]
  },
  {
   "cell_type": "code",
   "execution_count": 5,
   "metadata": {},
   "outputs": [
    {
     "name": "stdout",
     "output_type": "stream",
     "text": [
      "Xtrain shape: (83071, 1, 20)\n",
      "Ytrain shape: (83071,)\n",
      "Xtest shape: (20768, 1, 20)\n",
      "Ytest shape: (20768,)\n"
     ]
    }
   ],
   "source": [
    "X, Y = data_pipe()\n",
    "Xtrain, Xtest, Ytrain, Ytest = train_test_split(\n",
    "                                                X, Y, \n",
    "                                                test_size=0.2, \n",
    "                                                random_state=42\n",
    "                                                )\n",
    "print(f\"Xtrain shape: {Xtrain.shape}\")\n",
    "print(f\"Ytrain shape: {Ytrain.shape}\")\n",
    "print(f\"Xtest shape: {Xtest.shape}\")\n",
    "print(f\"Ytest shape: {Ytest.shape}\")"
   ]
  },
  {
   "cell_type": "code",
   "execution_count": 7,
   "metadata": {},
   "outputs": [
    {
     "data": {
      "image/png": "[encoded data removed]",
      "text/plain": [
       "<Figure size 1000x600 with 1 Axes>"
      ]
     },
     "metadata": {},
     "output_type": "display_data"
    }
   ],
   "source": [
    "value_counts = pd.Series(Y).value_counts()\n",
    "plt.figure(figsize=(10, 6))\n",
    "sns.barplot(x=value_counts.index, y=value_counts.values)\n",
    "plt.title(\"Class Distribution\")\n",
    "plt.show()"
   ]
  },
  {
   "cell_type": "code",
   "execution_count": 9,
   "metadata": {},
   "outputs": [
    {
     "name": "stderr",
     "output_type": "stream",
     "text": [
      "C:\\Users\\IMAKA\\anaconda3\\Lib\\site-packages\\keras\\src\\layers\\rnn\\rnn.py:200: UserWarning: Do not pass an `input_shape`/`input_dim` argument to a layer. When using Sequential models, prefer using an `Input(shape)` object as the first layer in the model instead.\n",
      "  super().__init__(**kwargs)\n"
     ]
    },
    {
     "data": {
      "text/html": [
       "<pre style=\"white-space:pre;overflow-x:auto;line-height:normal;font-family:Menlo,'DejaVu Sans Mono',consolas,'Courier New',monospace\"><span style=\"font-weight: bold\">Model: \"sequential\"</span>\n",
       "</pre>\n"
      ],
      "text/plain": [
       "\u001b[1mModel: \"sequential\"\u001b[0m\n"
      ]
     },
     "metadata": {},
     "output_type": "display_data"
    },
    {
     "data": {
      "text/html": [
       "<pre style=\"white-space:pre;overflow-x:auto;line-height:normal;font-family:Menlo,'DejaVu Sans Mono',consolas,'Courier New',monospace\">┏━━━━━━━━━━━━━━━━━━━━━━━━━━━━━━━━━┳━━━━━━━━━━━━━━━━━━━━━━━━┳━━━━━━━━━━━━━━━┓\n",
       "┃<span style=\"font-weight: bold\"> Layer (type)                    </span>┃<span style=\"font-weight: bold\"> Output Shape           </span>┃<span style=\"font-weight: bold\">       Param # </span>┃\n",
       "┡━━━━━━━━━━━━━━━━━━━━━━━━━━━━━━━━━╇━━━━━━━━━━━━━━━━━━━━━━━━╇━━━━━━━━━━━━━━━┩\n",
       "│ lstm (<span style=\"color: #0087ff; text-decoration-color: #0087ff\">LSTM</span>)                     │ (<span style=\"color: #00d7ff; text-decoration-color: #00d7ff\">None</span>, <span style=\"color: #00af00; text-decoration-color: #00af00\">1</span>, <span style=\"color: #00af00; text-decoration-color: #00af00\">256</span>)         │       <span style=\"color: #00af00; text-decoration-color: #00af00\">283,648</span> │\n",
       "├─────────────────────────────────┼────────────────────────┼───────────────┤\n",
       "│ lstm_1 (<span style=\"color: #0087ff; text-decoration-color: #0087ff\">LSTM</span>)                   │ (<span style=\"color: #00d7ff; text-decoration-color: #00d7ff\">None</span>, <span style=\"color: #00af00; text-decoration-color: #00af00\">128</span>)            │       <span style=\"color: #00af00; text-decoration-color: #00af00\">197,120</span> │\n",
       "├─────────────────────────────────┼────────────────────────┼───────────────┤\n",
       "│ dense (<span style=\"color: #0087ff; text-decoration-color: #0087ff\">Dense</span>)                   │ (<span style=\"color: #00d7ff; text-decoration-color: #00d7ff\">None</span>, <span style=\"color: #00af00; text-decoration-color: #00af00\">128</span>)            │        <span style=\"color: #00af00; text-decoration-color: #00af00\">16,512</span> │\n",
       "├─────────────────────────────────┼────────────────────────┼───────────────┤\n",
       "│ dense_1 (<span style=\"color: #0087ff; text-decoration-color: #0087ff\">Dense</span>)                 │ (<span style=\"color: #00d7ff; text-decoration-color: #00d7ff\">None</span>, <span style=\"color: #00af00; text-decoration-color: #00af00\">32</span>)             │         <span style=\"color: #00af00; text-decoration-color: #00af00\">4,128</span> │\n",
       "├─────────────────────────────────┼────────────────────────┼───────────────┤\n",
       "│ dense_2 (<span style=\"color: #0087ff; text-decoration-color: #0087ff\">Dense</span>)                 │ (<span style=\"color: #00d7ff; text-decoration-color: #00d7ff\">None</span>, <span style=\"color: #00af00; text-decoration-color: #00af00\">1</span>)              │            <span style=\"color: #00af00; text-decoration-color: #00af00\">33</span> │\n",
       "└─────────────────────────────────┴────────────────────────┴───────────────┘\n",
       "</pre>\n"
      ],
      "text/plain": [
       "┏━━━━━━━━━━━━━━━━━━━━━━━━━━━━━━━━━┳━━━━━━━━━━━━━━━━━━━━━━━━┳━━━━━━━━━━━━━━━┓\n",
       "┃\u001b[1m \u001b[0m\u001b[1mLayer (type)                   \u001b[0m\u001b[1m \u001b[0m┃\u001b[1m \u001b[0m\u001b[1mOutput Shape          \u001b[0m\u001b[1m \u001b[0m┃\u001b[1m \u001b[0m\u001b[1m      Param #\u001b[0m\u001b[1m \u001b[0m┃\n",
       "┡━━━━━━━━━━━━━━━━━━━━━━━━━━━━━━━━━╇━━━━━━━━━━━━━━━━━━━━━━━━╇━━━━━━━━━━━━━━━┩\n",
       "│ lstm (\u001b[38;5;33mLSTM\u001b[0m)                     │ (\u001b[38;5;45mNone\u001b[0m, \u001b[38;5;34m1\u001b[0m, \u001b[38;5;34m256\u001b[0m)         │       \u001b[38;5;34m283,648\u001b[0m │\n",
       "├─────────────────────────────────┼────────────────────────┼───────────────┤\n",
       "│ lstm_1 (\u001b[38;5;33mLSTM\u001b[0m)                   │ (\u001b[38;5;45mNone\u001b[0m, \u001b[38;5;34m128\u001b[0m)            │       \u001b[38;5;34m197,120\u001b[0m │\n",
       "├─────────────────────────────────┼────────────────────────┼───────────────┤\n",
       "│ dense (\u001b[38;5;33mDense\u001b[0m)                   │ (\u001b[38;5;45mNone\u001b[0m, \u001b[38;5;34m128\u001b[0m)            │        \u001b[38;5;34m16,512\u001b[0m │\n",
       "├─────────────────────────────────┼────────────────────────┼───────────────┤\n",
       "│ dense_1 (\u001b[38;5;33mDense\u001b[0m)                 │ (\u001b[38;5;45mNone\u001b[0m, \u001b[38;5;34m32\u001b[0m)             │         \u001b[38;5;34m4,128\u001b[0m │\n",
       "├─────────────────────────────────┼────────────────────────┼───────────────┤\n",
       "│ dense_2 (\u001b[38;5;33mDense\u001b[0m)                 │ (\u001b[38;5;45mNone\u001b[0m, \u001b[38;5;34m1\u001b[0m)              │            \u001b[38;5;34m33\u001b[0m │\n",
       "└─────────────────────────────────┴────────────────────────┴───────────────┘\n"
      ]
     },
     "metadata": {},
     "output_type": "display_data"
    },
    {
     "data": {
      "text/html": [
       "<pre style=\"white-space:pre;overflow-x:auto;line-height:normal;font-family:Menlo,'DejaVu Sans Mono',consolas,'Courier New',monospace\"><span style=\"font-weight: bold\"> Total params: </span><span style=\"color: #00af00; text-decoration-color: #00af00\">501,441</span> (1.91 MB)\n",
       "</pre>\n"
      ],
      "text/plain": [
       "\u001b[1m Total params: \u001b[0m\u001b[38;5;34m501,441\u001b[0m (1.91 MB)\n"
      ]
     },
     "metadata": {},
     "output_type": "display_data"
    },
    {
     "data": {
      "text/html": [
       "<pre style=\"white-space:pre;overflow-x:auto;line-height:normal;font-family:Menlo,'DejaVu Sans Mono',consolas,'Courier New',monospace\"><span style=\"font-weight: bold\"> Trainable params: </span><span style=\"color: #00af00; text-decoration-color: #00af00\">501,441</span> (1.91 MB)\n",
       "</pre>\n"
      ],
      "text/plain": [
       "\u001b[1m Trainable params: \u001b[0m\u001b[38;5;34m501,441\u001b[0m (1.91 MB)\n"
      ]
     },
     "metadata": {},
     "output_type": "display_data"
    },
    {
     "data": {
      "text/html": [
       "<pre style=\"white-space:pre;overflow-x:auto;line-height:normal;font-family:Menlo,'DejaVu Sans Mono',consolas,'Courier New',monospace\"><span style=\"font-weight: bold\"> Non-trainable params: </span><span style=\"color: #00af00; text-decoration-color: #00af00\">0</span> (0.00 B)\n",
       "</pre>\n"
      ],
      "text/plain": [
       "\u001b[1m Non-trainable params: \u001b[0m\u001b[38;5;34m0\u001b[0m (0.00 B)\n"
      ]
     },
     "metadata": {},
     "output_type": "display_data"
    }
   ],
   "source": [
    "model = tf.keras.models.Sequential([\n",
    "                                tf.keras.layers.LSTM(256, input_shape=(Xtrain.shape[1], Xtrain.shape[2]), return_sequences=True),\n",
    "                                tf.keras.layers.LSTM(128),\n",
    "                                tf.keras.layers.Dense(128, activation='relu'),\n",
    "                                tf.keras.layers.Dense(32, activation='relu'),\n",
    "                                tf.keras.layers.Dense(1, activation='sigmoid')\n",
    "                                ])\n",
    "model.compile(\n",
    "                optimizer='adam', \n",
    "                loss='binary_crossentropy',\n",
    "                metrics=[\n",
    "                        tf.keras.metrics.Precision(name='acc')\n",
    "                        ]\n",
    "                )\n",
    "model.summary()"
   ]
  },
  {
   "cell_type": "code",
   "execution_count": 11,
   "metadata": {},
   "outputs": [
    {
     "name": "stdout",
     "output_type": "stream",
     "text": [
      "Epoch 1/100\n",
      "\u001b[1m1298/1298\u001b[0m \u001b[32m━━━━━━━━━━━━━━━━━━━━\u001b[0m\u001b[37m\u001b[0m \u001b[1m15s\u001b[0m 8ms/step - acc: 0.6384 - loss: 0.6668 - val_acc: 0.4181 - val_loss: 0.6741\n",
      "Epoch 2/100\n",
      "\u001b[1m1298/1298\u001b[0m \u001b[32m━━━━━━━━━━━━━━━━━━━━\u001b[0m\u001b[37m\u001b[0m \u001b[1m20s\u001b[0m 7ms/step - acc: 0.6983 - loss: 0.6650 - val_acc: 0.7167 - val_loss: 0.6657\n",
      "Epoch 3/100\n",
      "\u001b[1m1298/1298\u001b[0m \u001b[32m━━━━━━━━━━━━━━━━━━━━\u001b[0m\u001b[37m\u001b[0m \u001b[1m11s\u001b[0m 8ms/step - acc: 0.7131 - loss: 0.6650 - val_acc: 0.7160 - val_loss: 0.6646\n",
      "Epoch 4/100\n",
      "\u001b[1m1298/1298\u001b[0m \u001b[32m━━━━━━━━━━━━━━━━━━━━\u001b[0m\u001b[37m\u001b[0m \u001b[1m10s\u001b[0m 8ms/step - acc: 0.7255 - loss: 0.6626 - val_acc: 0.7167 - val_loss: 0.6646\n",
      "Epoch 5/100\n",
      "\u001b[1m1298/1298\u001b[0m \u001b[32m━━━━━━━━━━━━━━━━━━━━\u001b[0m\u001b[37m\u001b[0m \u001b[1m10s\u001b[0m 8ms/step - acc: 0.7250 - loss: 0.6630 - val_acc: 0.7404 - val_loss: 0.6672\n",
      "Epoch 6/100\n",
      "\u001b[1m1298/1298\u001b[0m \u001b[32m━━━━━━━━━━━━━━━━━━━━\u001b[0m\u001b[37m\u001b[0m \u001b[1m10s\u001b[0m 7ms/step - acc: 0.7081 - loss: 0.6618 - val_acc: 0.7200 - val_loss: 0.6644\n",
      "Epoch 7/100\n",
      "\u001b[1m1298/1298\u001b[0m \u001b[32m━━━━━━━━━━━━━━━━━━━━\u001b[0m\u001b[37m\u001b[0m \u001b[1m11s\u001b[0m 8ms/step - acc: 0.7279 - loss: 0.6617 - val_acc: 0.7176 - val_loss: 0.6649\n",
      "Epoch 8/100\n",
      "\u001b[1m1298/1298\u001b[0m \u001b[32m━━━━━━━━━━━━━━━━━━━━\u001b[0m\u001b[37m\u001b[0m \u001b[1m12s\u001b[0m 9ms/step - acc: 0.7053 - loss: 0.6621 - val_acc: 0.7206 - val_loss: 0.6647\n",
      "Epoch 9/100\n",
      "\u001b[1m1298/1298\u001b[0m \u001b[32m━━━━━━━━━━━━━━━━━━━━\u001b[0m\u001b[37m\u001b[0m \u001b[1m14s\u001b[0m 10ms/step - acc: 0.7395 - loss: 0.6628 - val_acc: 0.7194 - val_loss: 0.6648\n",
      "Epoch 10/100\n",
      "\u001b[1m1298/1298\u001b[0m \u001b[32m━━━━━━━━━━━━━━━━━━━━\u001b[0m\u001b[37m\u001b[0m \u001b[1m10s\u001b[0m 8ms/step - acc: 0.7236 - loss: 0.6622 - val_acc: 0.7203 - val_loss: 0.6643\n",
      "Epoch 11/100\n",
      "\u001b[1m1298/1298\u001b[0m \u001b[32m━━━━━━━━━━━━━━━━━━━━\u001b[0m\u001b[37m\u001b[0m \u001b[1m10s\u001b[0m 8ms/step - acc: 0.7038 - loss: 0.6631 - val_acc: 0.7206 - val_loss: 0.6641\n",
      "Epoch 12/100\n",
      "\u001b[1m1298/1298\u001b[0m \u001b[32m━━━━━━━━━━━━━━━━━━━━\u001b[0m\u001b[37m\u001b[0m \u001b[1m21s\u001b[0m 8ms/step - acc: 0.7218 - loss: 0.6614 - val_acc: 0.7261 - val_loss: 0.6653\n",
      "Epoch 13/100\n",
      "\u001b[1m1298/1298\u001b[0m \u001b[32m━━━━━━━━━━━━━━━━━━━━\u001b[0m\u001b[37m\u001b[0m \u001b[1m11s\u001b[0m 9ms/step - acc: 0.7349 - loss: 0.6631 - val_acc: 0.7255 - val_loss: 0.6650\n",
      "Epoch 14/100\n",
      "\u001b[1m1298/1298\u001b[0m \u001b[32m━━━━━━━━━━━━━━━━━━━━\u001b[0m\u001b[37m\u001b[0m \u001b[1m10s\u001b[0m 8ms/step - acc: 0.7179 - loss: 0.6613 - val_acc: 0.7063 - val_loss: 0.6657\n",
      "Epoch 15/100\n",
      "\u001b[1m1298/1298\u001b[0m \u001b[32m━━━━━━━━━━━━━━━━━━━━\u001b[0m\u001b[37m\u001b[0m \u001b[1m10s\u001b[0m 8ms/step - acc: 0.7128 - loss: 0.6630 - val_acc: 0.7079 - val_loss: 0.6652\n",
      "Epoch 16/100\n",
      "\u001b[1m1298/1298\u001b[0m \u001b[32m━━━━━━━━━━━━━━━━━━━━\u001b[0m\u001b[37m\u001b[0m \u001b[1m16s\u001b[0m 12ms/step - acc: 0.6933 - loss: 0.6634 - val_acc: 0.7294 - val_loss: 0.6653\n",
      "Epoch 17/100\n",
      "\u001b[1m1298/1298\u001b[0m \u001b[32m━━━━━━━━━━━━━━━━━━━━\u001b[0m\u001b[37m\u001b[0m \u001b[1m15s\u001b[0m 11ms/step - acc: 0.7393 - loss: 0.6633 - val_acc: 0.7253 - val_loss: 0.6653\n",
      "Epoch 18/100\n",
      "\u001b[1m1298/1298\u001b[0m \u001b[32m━━━━━━━━━━━━━━━━━━━━\u001b[0m\u001b[37m\u001b[0m \u001b[1m12s\u001b[0m 10ms/step - acc: 0.7498 - loss: 0.6606 - val_acc: 0.7261 - val_loss: 0.6646\n",
      "Epoch 19/100\n",
      "\u001b[1m1298/1298\u001b[0m \u001b[32m━━━━━━━━━━━━━━━━━━━━\u001b[0m\u001b[37m\u001b[0m \u001b[1m10s\u001b[0m 8ms/step - acc: 0.7264 - loss: 0.6622 - val_acc: 0.7237 - val_loss: 0.6654\n",
      "Epoch 20/100\n",
      "\u001b[1m1298/1298\u001b[0m \u001b[32m━━━━━━━━━━━━━━━━━━━━\u001b[0m\u001b[37m\u001b[0m \u001b[1m13s\u001b[0m 10ms/step - acc: 0.7374 - loss: 0.6623 - val_acc: 0.7253 - val_loss: 0.6650\n",
      "Epoch 21/100\n",
      "\u001b[1m1298/1298\u001b[0m \u001b[32m━━━━━━━━━━━━━━━━━━━━\u001b[0m\u001b[37m\u001b[0m \u001b[1m10s\u001b[0m 8ms/step - acc: 0.7255 - loss: 0.6610 - val_acc: 0.7194 - val_loss: 0.6659\n",
      "Epoch 22/100\n",
      "\u001b[1m1298/1298\u001b[0m \u001b[32m━━━━━━━━━━━━━━━━━━━━\u001b[0m\u001b[37m\u001b[0m \u001b[1m10s\u001b[0m 8ms/step - acc: 0.7375 - loss: 0.6630 - val_acc: 0.7155 - val_loss: 0.6664\n",
      "Epoch 23/100\n",
      "\u001b[1m1298/1298\u001b[0m \u001b[32m━━━━━━━━━━━━━━━━━━━━\u001b[0m\u001b[37m\u001b[0m \u001b[1m10s\u001b[0m 8ms/step - acc: 0.7302 - loss: 0.6615 - val_acc: 0.7290 - val_loss: 0.6653\n",
      "Epoch 24/100\n",
      "\u001b[1m1298/1298\u001b[0m \u001b[32m━━━━━━━━━━━━━━━━━━━━\u001b[0m\u001b[37m\u001b[0m \u001b[1m10s\u001b[0m 8ms/step - acc: 0.7567 - loss: 0.6611 - val_acc: 0.7110 - val_loss: 0.6669\n",
      "Epoch 25/100\n",
      "\u001b[1m1298/1298\u001b[0m \u001b[32m━━━━━━━━━━━━━━━━━━━━\u001b[0m\u001b[37m\u001b[0m \u001b[1m10s\u001b[0m 8ms/step - acc: 0.7178 - loss: 0.6625 - val_acc: 0.7283 - val_loss: 0.6657\n",
      "Epoch 26/100\n",
      "\u001b[1m1298/1298\u001b[0m \u001b[32m━━━━━━━━━━━━━━━━━━━━\u001b[0m\u001b[37m\u001b[0m \u001b[1m10s\u001b[0m 8ms/step - acc: 0.6996 - loss: 0.6627 - val_acc: 0.7279 - val_loss: 0.6649\n",
      "Epoch 27/100\n",
      "\u001b[1m1298/1298\u001b[0m \u001b[32m━━━━━━━━━━━━━━━━━━━━\u001b[0m\u001b[37m\u001b[0m \u001b[1m10s\u001b[0m 8ms/step - acc: 0.7545 - loss: 0.6628 - val_acc: 0.7255 - val_loss: 0.6651\n",
      "Epoch 28/100\n",
      "\u001b[1m1298/1298\u001b[0m \u001b[32m━━━━━━━━━━━━━━━━━━━━\u001b[0m\u001b[37m\u001b[0m \u001b[1m10s\u001b[0m 8ms/step - acc: 0.7399 - loss: 0.6618 - val_acc: 0.7191 - val_loss: 0.6650\n",
      "Epoch 29/100\n",
      "\u001b[1m1298/1298\u001b[0m \u001b[32m━━━━━━━━━━━━━━━━━━━━\u001b[0m\u001b[37m\u001b[0m \u001b[1m10s\u001b[0m 8ms/step - acc: 0.7401 - loss: 0.6612 - val_acc: 0.7265 - val_loss: 0.6663\n",
      "Epoch 30/100\n",
      "\u001b[1m1298/1298\u001b[0m \u001b[32m━━━━━━━━━━━━━━━━━━━━\u001b[0m\u001b[37m\u001b[0m \u001b[1m10s\u001b[0m 8ms/step - acc: 0.7238 - loss: 0.6617 - val_acc: 0.7226 - val_loss: 0.6663\n",
      "Epoch 31/100\n",
      "\u001b[1m1298/1298\u001b[0m \u001b[32m━━━━━━━━━━━━━━━━━━━━\u001b[0m\u001b[37m\u001b[0m \u001b[1m11s\u001b[0m 9ms/step - acc: 0.7326 - loss: 0.6608 - val_acc: 0.7273 - val_loss: 0.6657\n",
      "Epoch 32/100\n",
      "\u001b[1m1298/1298\u001b[0m \u001b[32m━━━━━━━━━━━━━━━━━━━━\u001b[0m\u001b[37m\u001b[0m \u001b[1m11s\u001b[0m 9ms/step - acc: 0.7497 - loss: 0.6607 - val_acc: 0.7216 - val_loss: 0.6663\n",
      "Epoch 33/100\n",
      "\u001b[1m1298/1298\u001b[0m \u001b[32m━━━━━━━━━━━━━━━━━━━━\u001b[0m\u001b[37m\u001b[0m \u001b[1m10s\u001b[0m 7ms/step - acc: 0.7090 - loss: 0.6609 - val_acc: 0.7170 - val_loss: 0.6707\n",
      "Epoch 34/100\n",
      "\u001b[1m1298/1298\u001b[0m \u001b[32m━━━━━━━━━━━━━━━━━━━━\u001b[0m\u001b[37m\u001b[0m \u001b[1m12s\u001b[0m 9ms/step - acc: 0.7478 - loss: 0.6612 - val_acc: 0.7277 - val_loss: 0.6661\n",
      "Epoch 35/100\n",
      "\u001b[1m1298/1298\u001b[0m \u001b[32m━━━━━━━━━━━━━━━━━━━━\u001b[0m\u001b[37m\u001b[0m \u001b[1m10s\u001b[0m 8ms/step - acc: 0.7395 - loss: 0.6608 - val_acc: 0.7289 - val_loss: 0.6668\n",
      "Epoch 36/100\n",
      "\u001b[1m1298/1298\u001b[0m \u001b[32m━━━━━━━━━━━━━━━━━━━━\u001b[0m\u001b[37m\u001b[0m \u001b[1m10s\u001b[0m 7ms/step - acc: 0.7439 - loss: 0.6618 - val_acc: 0.7261 - val_loss: 0.6677\n",
      "Epoch 37/100\n",
      "\u001b[1m1298/1298\u001b[0m \u001b[32m━━━━━━━━━━━━━━━━━━━━\u001b[0m\u001b[37m\u001b[0m \u001b[1m10s\u001b[0m 8ms/step - acc: 0.7428 - loss: 0.6610 - val_acc: 0.7303 - val_loss: 0.6672\n",
      "Epoch 38/100\n",
      "\u001b[1m1298/1298\u001b[0m \u001b[32m━━━━━━━━━━━━━━━━━━━━\u001b[0m\u001b[37m\u001b[0m \u001b[1m10s\u001b[0m 7ms/step - acc: 0.7550 - loss: 0.6601 - val_acc: 0.7222 - val_loss: 0.6670\n",
      "Epoch 39/100\n",
      "\u001b[1m1298/1298\u001b[0m \u001b[32m━━━━━━━━━━━━━━━━━━━━\u001b[0m\u001b[37m\u001b[0m \u001b[1m12s\u001b[0m 9ms/step - acc: 0.7459 - loss: 0.6609 - val_acc: 0.7220 - val_loss: 0.6694\n",
      "Epoch 40/100\n",
      "\u001b[1m1298/1298\u001b[0m \u001b[32m━━━━━━━━━━━━━━━━━━━━\u001b[0m\u001b[37m\u001b[0m \u001b[1m12s\u001b[0m 9ms/step - acc: 0.7612 - loss: 0.6620 - val_acc: 0.7214 - val_loss: 0.6688\n",
      "Epoch 41/100\n",
      "\u001b[1m1298/1298\u001b[0m \u001b[32m━━━━━━━━━━━━━━━━━━━━\u001b[0m\u001b[37m\u001b[0m \u001b[1m11s\u001b[0m 8ms/step - acc: 0.7474 - loss: 0.6613 - val_acc: 0.7228 - val_loss: 0.6687\n",
      "Epoch 42/100\n",
      "\u001b[1m1298/1298\u001b[0m \u001b[32m━━━━━━━━━━━━━━━━━━━━\u001b[0m\u001b[37m\u001b[0m \u001b[1m10s\u001b[0m 7ms/step - acc: 0.7419 - loss: 0.6617 - val_acc: 0.7220 - val_loss: 0.6690\n",
      "Epoch 43/100\n",
      "\u001b[1m1298/1298\u001b[0m \u001b[32m━━━━━━━━━━━━━━━━━━━━\u001b[0m\u001b[37m\u001b[0m \u001b[1m10s\u001b[0m 8ms/step - acc: 0.7362 - loss: 0.6630 - val_acc: 0.7281 - val_loss: 0.6681\n",
      "Epoch 44/100\n",
      "\u001b[1m1298/1298\u001b[0m \u001b[32m━━━━━━━━━━━━━━━━━━━━\u001b[0m\u001b[37m\u001b[0m \u001b[1m12s\u001b[0m 9ms/step - acc: 0.7352 - loss: 0.6620 - val_acc: 0.7518 - val_loss: 0.6678\n",
      "Epoch 45/100\n",
      "\u001b[1m1298/1298\u001b[0m \u001b[32m━━━━━━━━━━━━━━━━━━━━\u001b[0m\u001b[37m\u001b[0m \u001b[1m12s\u001b[0m 10ms/step - acc: 0.7540 - loss: 0.6628 - val_acc: 0.7201 - val_loss: 0.6693\n",
      "Epoch 46/100\n",
      "\u001b[1m1298/1298\u001b[0m \u001b[32m━━━━━━━━━━━━━━━━━━━━\u001b[0m\u001b[37m\u001b[0m \u001b[1m12s\u001b[0m 9ms/step - acc: 0.7468 - loss: 0.6612 - val_acc: 0.7210 - val_loss: 0.6682\n",
      "Epoch 47/100\n",
      "\u001b[1m1298/1298\u001b[0m \u001b[32m━━━━━━━━━━━━━━━━━━━━\u001b[0m\u001b[37m\u001b[0m \u001b[1m11s\u001b[0m 8ms/step - acc: 0.7514 - loss: 0.6602 - val_acc: 0.7512 - val_loss: 0.6672\n",
      "Epoch 48/100\n",
      "\u001b[1m1298/1298\u001b[0m \u001b[32m━━━━━━━━━━━━━━━━━━━━\u001b[0m\u001b[37m\u001b[0m \u001b[1m10s\u001b[0m 8ms/step - acc: 0.7409 - loss: 0.6618 - val_acc: 0.7226 - val_loss: 0.6694\n",
      "Epoch 49/100\n",
      "\u001b[1m1298/1298\u001b[0m \u001b[32m━━━━━━━━━━━━━━━━━━━━\u001b[0m\u001b[37m\u001b[0m \u001b[1m10s\u001b[0m 7ms/step - acc: 0.7535 - loss: 0.6618 - val_acc: 0.7243 - val_loss: 0.6675\n",
      "Epoch 50/100\n",
      "\u001b[1m1298/1298\u001b[0m \u001b[32m━━━━━━━━━━━━━━━━━━━━\u001b[0m\u001b[37m\u001b[0m \u001b[1m10s\u001b[0m 8ms/step - acc: 0.7346 - loss: 0.6599 - val_acc: 0.7436 - val_loss: 0.6687\n",
      "Epoch 51/100\n",
      "\u001b[1m1298/1298\u001b[0m \u001b[32m━━━━━━━━━━━━━━━━━━━━\u001b[0m\u001b[37m\u001b[0m \u001b[1m10s\u001b[0m 8ms/step - acc: 0.7506 - loss: 0.6615 - val_acc: 0.7338 - val_loss: 0.6690\n",
      "Epoch 52/100\n",
      "\u001b[1m1298/1298\u001b[0m \u001b[32m━━━━━━━━━━━━━━━━━━━━\u001b[0m\u001b[37m\u001b[0m \u001b[1m13s\u001b[0m 10ms/step - acc: 0.7584 - loss: 0.6613 - val_acc: 0.7304 - val_loss: 0.6706\n",
      "Epoch 53/100\n",
      "\u001b[1m1298/1298\u001b[0m \u001b[32m━━━━━━━━━━━━━━━━━━━━\u001b[0m\u001b[37m\u001b[0m \u001b[1m13s\u001b[0m 10ms/step - acc: 0.7422 - loss: 0.6623 - val_acc: 0.7241 - val_loss: 0.6715\n",
      "Epoch 54/100\n",
      "\u001b[1m1298/1298\u001b[0m \u001b[32m━━━━━━━━━━━━━━━━━━━━\u001b[0m\u001b[37m\u001b[0m \u001b[1m15s\u001b[0m 11ms/step - acc: 0.7399 - loss: 0.6605 - val_acc: 0.7309 - val_loss: 0.6685\n",
      "Epoch 55/100\n",
      "\u001b[1m1298/1298\u001b[0m \u001b[32m━━━━━━━━━━━━━━━━━━━━\u001b[0m\u001b[37m\u001b[0m \u001b[1m16s\u001b[0m 8ms/step - acc: 0.7235 - loss: 0.6629 - val_acc: 0.7314 - val_loss: 0.6675\n",
      "Epoch 56/100\n",
      "\u001b[1m1298/1298\u001b[0m \u001b[32m━━━━━━━━━━━━━━━━━━━━\u001b[0m\u001b[37m\u001b[0m \u001b[1m11s\u001b[0m 9ms/step - acc: 0.7379 - loss: 0.6596 - val_acc: 0.7279 - val_loss: 0.6678\n",
      "Epoch 57/100\n",
      "\u001b[1m1298/1298\u001b[0m \u001b[32m━━━━━━━━━━━━━━━━━━━━\u001b[0m\u001b[37m\u001b[0m \u001b[1m11s\u001b[0m 8ms/step - acc: 0.7428 - loss: 0.6613 - val_acc: 0.7229 - val_loss: 0.6681\n",
      "Epoch 58/100\n",
      "\u001b[1m1298/1298\u001b[0m \u001b[32m━━━━━━━━━━━━━━━━━━━━\u001b[0m\u001b[37m\u001b[0m \u001b[1m21s\u001b[0m 9ms/step - acc: 0.7574 - loss: 0.6614 - val_acc: 0.7285 - val_loss: 0.6667\n",
      "Epoch 59/100\n",
      "\u001b[1m1298/1298\u001b[0m \u001b[32m━━━━━━━━━━━━━━━━━━━━\u001b[0m\u001b[37m\u001b[0m \u001b[1m11s\u001b[0m 9ms/step - acc: 0.7385 - loss: 0.6609 - val_acc: 0.7232 - val_loss: 0.6675\n",
      "Epoch 60/100\n",
      "\u001b[1m1298/1298\u001b[0m \u001b[32m━━━━━━━━━━━━━━━━━━━━\u001b[0m\u001b[37m\u001b[0m \u001b[1m10s\u001b[0m 8ms/step - acc: 0.7361 - loss: 0.6609 - val_acc: 0.7220 - val_loss: 0.6680\n",
      "Epoch 61/100\n",
      "\u001b[1m1298/1298\u001b[0m \u001b[32m━━━━━━━━━━━━━━━━━━━━\u001b[0m\u001b[37m\u001b[0m \u001b[1m10s\u001b[0m 8ms/step - acc: 0.7443 - loss: 0.6617 - val_acc: 0.7303 - val_loss: 0.6676\n",
      "Epoch 62/100\n",
      "\u001b[1m1298/1298\u001b[0m \u001b[32m━━━━━━━━━━━━━━━━━━━━\u001b[0m\u001b[37m\u001b[0m \u001b[1m10s\u001b[0m 7ms/step - acc: 0.7411 - loss: 0.6611 - val_acc: 0.7285 - val_loss: 0.6667\n",
      "Epoch 63/100\n",
      "\u001b[1m1298/1298\u001b[0m \u001b[32m━━━━━━━━━━━━━━━━━━━━\u001b[0m\u001b[37m\u001b[0m \u001b[1m10s\u001b[0m 8ms/step - acc: 0.7664 - loss: 0.6613 - val_acc: 0.7232 - val_loss: 0.6687\n",
      "Epoch 64/100\n",
      "\u001b[1m1298/1298\u001b[0m \u001b[32m━━━━━━━━━━━━━━━━━━━━\u001b[0m\u001b[37m\u001b[0m \u001b[1m12s\u001b[0m 9ms/step - acc: 0.7618 - loss: 0.6610 - val_acc: 0.7393 - val_loss: 0.6680\n",
      "Epoch 65/100\n",
      "\u001b[1m1298/1298\u001b[0m \u001b[32m━━━━━━━━━━━━━━━━━━━━\u001b[0m\u001b[37m\u001b[0m \u001b[1m13s\u001b[0m 10ms/step - acc: 0.7536 - loss: 0.6609 - val_acc: 0.7232 - val_loss: 0.6683\n",
      "Epoch 66/100\n",
      "\u001b[1m1298/1298\u001b[0m \u001b[32m━━━━━━━━━━━━━━━━━━━━\u001b[0m\u001b[37m\u001b[0m \u001b[1m21s\u001b[0m 11ms/step - acc: 0.7534 - loss: 0.6609 - val_acc: 0.7426 - val_loss: 0.6689\n",
      "Epoch 67/100\n",
      "\u001b[1m1298/1298\u001b[0m \u001b[32m━━━━━━━━━━━━━━━━━━━━\u001b[0m\u001b[37m\u001b[0m \u001b[1m19s\u001b[0m 9ms/step - acc: 0.7538 - loss: 0.6631 - val_acc: 0.7232 - val_loss: 0.6693\n",
      "Epoch 68/100\n",
      "\u001b[1m1298/1298\u001b[0m \u001b[32m━━━━━━━━━━━━━━━━━━━━\u001b[0m\u001b[37m\u001b[0m \u001b[1m11s\u001b[0m 9ms/step - acc: 0.7176 - loss: 0.6614 - val_acc: 0.7226 - val_loss: 0.6690\n",
      "Epoch 69/100\n",
      "\u001b[1m1298/1298\u001b[0m \u001b[32m━━━━━━━━━━━━━━━━━━━━\u001b[0m\u001b[37m\u001b[0m \u001b[1m11s\u001b[0m 8ms/step - acc: 0.7591 - loss: 0.6599 - val_acc: 0.7360 - val_loss: 0.6701\n",
      "Epoch 70/100\n",
      "\u001b[1m1298/1298\u001b[0m \u001b[32m━━━━━━━━━━━━━━━━━━━━\u001b[0m\u001b[37m\u001b[0m \u001b[1m11s\u001b[0m 9ms/step - acc: 0.7499 - loss: 0.6611 - val_acc: 0.7069 - val_loss: 0.6729\n",
      "Epoch 71/100\n",
      "\u001b[1m1298/1298\u001b[0m \u001b[32m━━━━━━━━━━━━━━━━━━━━\u001b[0m\u001b[37m\u001b[0m \u001b[1m10s\u001b[0m 7ms/step - acc: 0.7596 - loss: 0.6625 - val_acc: 0.7443 - val_loss: 0.6684\n",
      "Epoch 72/100\n",
      "\u001b[1m1298/1298\u001b[0m \u001b[32m━━━━━━━━━━━━━━━━━━━━\u001b[0m\u001b[37m\u001b[0m \u001b[1m11s\u001b[0m 8ms/step - acc: 0.7409 - loss: 0.6605 - val_acc: 0.7263 - val_loss: 0.6689\n",
      "Epoch 73/100\n",
      "\u001b[1m1298/1298\u001b[0m \u001b[32m━━━━━━━━━━━━━━━━━━━━\u001b[0m\u001b[37m\u001b[0m \u001b[1m11s\u001b[0m 8ms/step - acc: 0.7368 - loss: 0.6619 - val_acc: 0.7232 - val_loss: 0.6694\n",
      "Epoch 74/100\n",
      "\u001b[1m1298/1298\u001b[0m \u001b[32m━━━━━━━━━━━━━━━━━━━━\u001b[0m\u001b[37m\u001b[0m \u001b[1m11s\u001b[0m 9ms/step - acc: 0.7592 - loss: 0.6600 - val_acc: 0.7327 - val_loss: 0.6686\n",
      "Epoch 75/100\n",
      "\u001b[1m1298/1298\u001b[0m \u001b[32m━━━━━━━━━━━━━━━━━━━━\u001b[0m\u001b[37m\u001b[0m \u001b[1m11s\u001b[0m 9ms/step - acc: 0.7617 - loss: 0.6605 - val_acc: 0.7409 - val_loss: 0.6693\n",
      "Epoch 76/100\n",
      "\u001b[1m1298/1298\u001b[0m \u001b[32m━━━━━━━━━━━━━━━━━━━━\u001b[0m\u001b[37m\u001b[0m \u001b[1m11s\u001b[0m 9ms/step - acc: 0.7505 - loss: 0.6621 - val_acc: 0.7222 - val_loss: 0.6682\n",
      "Epoch 77/100\n",
      "\u001b[1m1298/1298\u001b[0m \u001b[32m━━━━━━━━━━━━━━━━━━━━\u001b[0m\u001b[37m\u001b[0m \u001b[1m10s\u001b[0m 7ms/step - acc: 0.7410 - loss: 0.6607 - val_acc: 0.7530 - val_loss: 0.6711\n",
      "Epoch 78/100\n",
      "\u001b[1m1298/1298\u001b[0m \u001b[32m━━━━━━━━━━━━━━━━━━━━\u001b[0m\u001b[37m\u001b[0m \u001b[1m9s\u001b[0m 7ms/step - acc: 0.7617 - loss: 0.6614 - val_acc: 0.7287 - val_loss: 0.6671\n",
      "Epoch 79/100\n",
      "\u001b[1m1298/1298\u001b[0m \u001b[32m━━━━━━━━━━━━━━━━━━━━\u001b[0m\u001b[37m\u001b[0m \u001b[1m10s\u001b[0m 7ms/step - acc: 0.7429 - loss: 0.6599 - val_acc: 0.7393 - val_loss: 0.6694\n",
      "Epoch 80/100\n",
      "\u001b[1m1298/1298\u001b[0m \u001b[32m━━━━━━━━━━━━━━━━━━━━\u001b[0m\u001b[37m\u001b[0m \u001b[1m9s\u001b[0m 7ms/step - acc: 0.7606 - loss: 0.6602 - val_acc: 0.7222 - val_loss: 0.6718\n",
      "Epoch 81/100\n",
      "\u001b[1m1298/1298\u001b[0m \u001b[32m━━━━━━━━━━━━━━━━━━━━\u001b[0m\u001b[37m\u001b[0m \u001b[1m9s\u001b[0m 7ms/step - acc: 0.7542 - loss: 0.6615 - val_acc: 0.7432 - val_loss: 0.6690\n",
      "Epoch 82/100\n",
      "\u001b[1m1298/1298\u001b[0m \u001b[32m━━━━━━━━━━━━━━━━━━━━\u001b[0m\u001b[37m\u001b[0m \u001b[1m9s\u001b[0m 7ms/step - acc: 0.7575 - loss: 0.6610 - val_acc: 0.7346 - val_loss: 0.6686\n",
      "Epoch 83/100\n",
      "\u001b[1m1298/1298\u001b[0m \u001b[32m━━━━━━━━━━━━━━━━━━━━\u001b[0m\u001b[37m\u001b[0m \u001b[1m9s\u001b[0m 7ms/step - acc: 0.7539 - loss: 0.6605 - val_acc: 0.7320 - val_loss: 0.6725\n",
      "Epoch 84/100\n",
      "\u001b[1m1298/1298\u001b[0m \u001b[32m━━━━━━━━━━━━━━━━━━━━\u001b[0m\u001b[37m\u001b[0m \u001b[1m10s\u001b[0m 7ms/step - acc: 0.7620 - loss: 0.6617 - val_acc: 0.7410 - val_loss: 0.6708\n",
      "Epoch 85/100\n",
      "\u001b[1m1298/1298\u001b[0m \u001b[32m━━━━━━━━━━━━━━━━━━━━\u001b[0m\u001b[37m\u001b[0m \u001b[1m9s\u001b[0m 7ms/step - acc: 0.7594 - loss: 0.6607 - val_acc: 0.7360 - val_loss: 0.6696\n",
      "Epoch 86/100\n",
      "\u001b[1m1298/1298\u001b[0m \u001b[32m━━━━━━━━━━━━━━━━━━━━\u001b[0m\u001b[37m\u001b[0m \u001b[1m10s\u001b[0m 8ms/step - acc: 0.7567 - loss: 0.6611 - val_acc: 0.7673 - val_loss: 0.6695\n",
      "Epoch 87/100\n",
      "\u001b[1m1298/1298\u001b[0m \u001b[32m━━━━━━━━━━━━━━━━━━━━\u001b[0m\u001b[37m\u001b[0m \u001b[1m9s\u001b[0m 7ms/step - acc: 0.7771 - loss: 0.6597 - val_acc: 0.7176 - val_loss: 0.6692\n",
      "Epoch 88/100\n",
      "\u001b[1m1298/1298\u001b[0m \u001b[32m━━━━━━━━━━━━━━━━━━━━\u001b[0m\u001b[37m\u001b[0m \u001b[1m9s\u001b[0m 7ms/step - acc: 0.7543 - loss: 0.6608 - val_acc: 0.7267 - val_loss: 0.6704\n",
      "Epoch 89/100\n",
      "\u001b[1m1298/1298\u001b[0m \u001b[32m━━━━━━━━━━━━━━━━━━━━\u001b[0m\u001b[37m\u001b[0m \u001b[1m10s\u001b[0m 7ms/step - acc: 0.7688 - loss: 0.6599 - val_acc: 0.7454 - val_loss: 0.6716\n",
      "Epoch 90/100\n",
      "\u001b[1m1298/1298\u001b[0m \u001b[32m━━━━━━━━━━━━━━━━━━━━\u001b[0m\u001b[37m\u001b[0m \u001b[1m9s\u001b[0m 7ms/step - acc: 0.7680 - loss: 0.6615 - val_acc: 0.7421 - val_loss: 0.6706\n",
      "Epoch 91/100\n",
      "\u001b[1m1298/1298\u001b[0m \u001b[32m━━━━━━━━━━━━━━━━━━━━\u001b[0m\u001b[37m\u001b[0m \u001b[1m12s\u001b[0m 9ms/step - acc: 0.7533 - loss: 0.6608 - val_acc: 0.7383 - val_loss: 0.6680\n",
      "Epoch 92/100\n",
      "\u001b[1m1298/1298\u001b[0m \u001b[32m━━━━━━━━━━━━━━━━━━━━\u001b[0m\u001b[37m\u001b[0m \u001b[1m12s\u001b[0m 9ms/step - acc: 0.7551 - loss: 0.6616 - val_acc: 0.7387 - val_loss: 0.6689\n",
      "Epoch 93/100\n",
      "\u001b[1m1298/1298\u001b[0m \u001b[32m━━━━━━━━━━━━━━━━━━━━\u001b[0m\u001b[37m\u001b[0m \u001b[1m11s\u001b[0m 9ms/step - acc: 0.7740 - loss: 0.6598 - val_acc: 0.7383 - val_loss: 0.6693\n",
      "Epoch 94/100\n",
      "\u001b[1m1298/1298\u001b[0m \u001b[32m━━━━━━━━━━━━━━━━━━━━\u001b[0m\u001b[37m\u001b[0m \u001b[1m12s\u001b[0m 9ms/step - acc: 0.7496 - loss: 0.6627 - val_acc: 0.7409 - val_loss: 0.6701\n",
      "Epoch 95/100\n",
      "\u001b[1m1298/1298\u001b[0m \u001b[32m━━━━━━━━━━━━━━━━━━━━\u001b[0m\u001b[37m\u001b[0m \u001b[1m10s\u001b[0m 8ms/step - acc: 0.7407 - loss: 0.6606 - val_acc: 0.7427 - val_loss: 0.6690\n",
      "Epoch 96/100\n",
      "\u001b[1m1298/1298\u001b[0m \u001b[32m━━━━━━━━━━━━━━━━━━━━\u001b[0m\u001b[37m\u001b[0m \u001b[1m10s\u001b[0m 8ms/step - acc: 0.7544 - loss: 0.6606 - val_acc: 0.7273 - val_loss: 0.6706\n",
      "Epoch 97/100\n",
      "\u001b[1m1298/1298\u001b[0m \u001b[32m━━━━━━━━━━━━━━━━━━━━\u001b[0m\u001b[37m\u001b[0m \u001b[1m12s\u001b[0m 9ms/step - acc: 0.7496 - loss: 0.6613 - val_acc: 0.7443 - val_loss: 0.6701\n",
      "Epoch 98/100\n",
      "\u001b[1m1298/1298\u001b[0m \u001b[32m━━━━━━━━━━━━━━━━━━━━\u001b[0m\u001b[37m\u001b[0m \u001b[1m12s\u001b[0m 9ms/step - acc: 0.7566 - loss: 0.6604 - val_acc: 0.7421 - val_loss: 0.6694\n",
      "Epoch 99/100\n",
      "\u001b[1m1298/1298\u001b[0m \u001b[32m━━━━━━━━━━━━━━━━━━━━\u001b[0m\u001b[37m\u001b[0m \u001b[1m21s\u001b[0m 10ms/step - acc: 0.7605 - loss: 0.6614 - val_acc: 0.7267 - val_loss: 0.6698\n",
      "Epoch 100/100\n",
      "\u001b[1m1298/1298\u001b[0m \u001b[32m━━━━━━━━━━━━━━━━━━━━\u001b[0m\u001b[37m\u001b[0m \u001b[1m11s\u001b[0m 9ms/step - acc: 0.7478 - loss: 0.6598 - val_acc: 0.7627 - val_loss: 0.6698\n"
     ]
    },
    {
     "data": {
      "text/plain": [
       "<keras.src.callbacks.history.History at 0x188227ebfb0>"
      ]
     },
     "execution_count": 11,
     "metadata": {},
     "output_type": "execute_result"
    }
   ],
   "source": [
    "model.fit(\n",
    "        Xtrain, \n",
    "        Ytrain,\n",
    "        epochs=100, \n",
    "        batch_size=64, \n",
    "        validation_data=(\n",
    "                        Xtest, \n",
    "                        Ytest\n",
    "                        )\n",
    "        )"
   ]
  },
  {
   "cell_type": "code",
   "execution_count": null,
   "metadata": {},
   "outputs": [],
   "source": [
    "if not os.path.exists(\"artifacts/ddos_model.pickle\"):\n",
    "    model.save(\"artifacts/ddos_model.pickle\")"
   ]
  },
  {
   "cell_type": "markdown",
   "metadata": {},
   "source": [
    "### evaluation"
   ]
  },
  {
   "cell_type": "code",
   "execution_count": null,
   "metadata": {},
   "outputs": [],
   "source": [
    "with open(\"artifacts/ddos_model.pickle\", \"rb\") as f:\n",
    "    model = pickle.load(f)"
   ]
  },
  {
   "cell_type": "code",
   "execution_count": null,
   "metadata": {},
   "outputs": [],
   "source": [
    "Ptrain = model.predict(Xtrain.reshape(Xtrain.shape[0], Xtrain.shape[2]))\n",
    "Ptest = model.predict(Xtest.reshape(Xtest.shape[0], Xtest.shape[2]))"
   ]
  },
  {
   "cell_type": "code",
   "execution_count": null,
   "metadata": {},
   "outputs": [],
   "source": [
    "cls_train = classification_report(\n",
    "                                Ytrain, \n",
    "                                Ptrain,\n",
    "                                target_names=[\n",
    "                                            \"Normal\",\n",
    "                                            \"DDOS\"\n",
    "                                            ]\n",
    "                                )       \n",
    "cls_test = classification_report(\n",
    "                                Ytest, \n",
    "                                Ptest,\n",
    "                                target_names=[\n",
    "                                            \"Normal\",\n",
    "                                            \"DDOS\"\n",
    "                                            ]\n",
    "                                )   \n",
    "\n",
    "print(\"Train Classification Report\")\n",
    "print(cls_train)\n",
    "\n",
    "print(\"Test Classification Report\")\n",
    "print(cls_test)"
   ]
  },
  {
   "cell_type": "code",
   "execution_count": null,
   "metadata": {},
   "outputs": [],
   "source": [
    "cm_train = confusion_matrix(Ytrain, Ptrain) \n",
    "cm_test = confusion_matrix(Ytest, Ptest)\n",
    "\n",
    "plt.figure(figsize=(14, 6))\n",
    "plt.subplot(1, 2, 1)\n",
    "sns.heatmap(cm_train, annot=True, fmt='d', cmap='Blues')\n",
    "plt.xtricks = ['Normal', 'DDOS']\n",
    "plt.title('Train Confusion Matrix')\n",
    "plt.xlabel('Predicted')\n",
    "plt.ylabel('Actual')\n",
    "\n",
    "plt.subplot(1, 2, 2)\n",
    "sns.heatmap(cm_test, annot=True, fmt='d', cmap='Blues')\n",
    "plt.xtricks = ['Normal', 'DDOS']\n",
    "plt.title('Test Confusion Matrix')\n",
    "plt.xlabel('Predicted')\n",
    "plt.ylabel('Actual')\n",
    "\n",
    "plt.show()"
   ]
  },
  {
   "cell_type": "markdown",
   "metadata": {},
   "source": [
    "### inference"
   ]
  },
  {
   "cell_type": "code",
   "execution_count": null,
   "metadata": {},
   "outputs": [],
   "source": [
    "with open(\"artifacts/ddos_model.pickle\", \"rb\") as f:\n",
    "    model = pickle.load(f)"
   ]
  },
  {
   "cell_type": "code",
   "execution_count": null,
   "metadata": {},
   "outputs": [],
   "source": [
    "sample_json = {\n",
    "                \"dt\": 11425,\n",
    "                \"switch\": 1,\n",
    "                \"src\": \"10.0.0.1\",\n",
    "                \"dst\": \"10.0.0.8\",\n",
    "                \"pktcount\": 45304,\n",
    "                \"bytecount\": 48294064,\n",
    "                \"dur\": 100,\n",
    "                \"dur_nsec\": 716000000,\n",
    "                \"tot_dur\": 1.01E+11,\n",
    "                \"flows\": 3,\n",
    "                \"packetins\": 1943,\n",
    "                \"pktperflow\": 13535,\n",
    "                \"byteperflow\": 14428310,\n",
    "                \"pktrate\": 451,\n",
    "                \"Pairflow\": 0,\n",
    "                \"Protocol\": \"UDP\",\n",
    "                \"port_no\": 3,\n",
    "                \"tx_bytes\": 143928631,\n",
    "                \"rx_bytes\": 3917,\n",
    "                \"tx_kbps\": 0,\n",
    "                \"rx_kbps\": 0,\n",
    "                \"tot_kbps\": 0,\n",
    "                }"
   ]
  },
  {
   "cell_type": "code",
   "execution_count": null,
   "metadata": {},
   "outputs": [],
   "source": [
    "def inference_ddos(sample_json):\n",
    "    sample_df = pd.DataFrame([sample_json])\n",
    "    sample_df['Protocol'] = sample_df['Protocol'].astype('category')\n",
    "    sample_df['Protocol'] = sample_df['Protocol'].map({'TCP': 0, 'UDP': 1, 'ICMP': 2})\n",
    "    del sample_df['src'] , sample_df['dst']\n",
    "    prediction = model.predict(sample_df.values)\n",
    "    lable = \"Normal\" if prediction < 0.5 else \"DDOS\"\n",
    "    return lable"
   ]
  },
  {
   "cell_type": "code",
   "execution_count": null,
   "metadata": {},
   "outputs": [],
   "source": [
    "inference_ddos(sample_json)"
   ]
  }
 ],
 "metadata": {
  "kernelspec": {
   "display_name": "Python 3 (ipykernel)",
   "language": "python",
   "name": "python3"
  },
  "language_info": {
   "codemirror_mode": {
    "name": "ipython",
    "version": 3
   },
   "file_extension": ".py",
   "mimetype": "text/x-python",
   "name": "python",
   "nbconvert_exporter": "python",
   "pygments_lexer": "ipython3",
   "version": "3.12.7"
  }
 },
 "nbformat": 4,
 "nbformat_minor": 4
}
